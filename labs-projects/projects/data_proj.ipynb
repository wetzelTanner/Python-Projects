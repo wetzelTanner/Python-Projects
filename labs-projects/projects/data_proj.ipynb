{
 "cells": [
  {
   "cell_type": "markdown",
   "id": "516a79b0",
   "metadata": {},
   "source": [
    "# Data Manipulation and Visualization Project\n",
    "## Written by Tanner Wetzel"
   ]
  },
  {
   "cell_type": "markdown",
   "id": "283461a2",
   "metadata": {},
   "source": [
    "## Dataset:"
   ]
  },
  {
   "cell_type": "code",
   "execution_count": 1,
   "id": "36c149a1",
   "metadata": {},
   "outputs": [
    {
     "ename": "ModuleNotFoundError",
     "evalue": "No module named 'pandas'",
     "output_type": "error",
     "traceback": [
      "\u001b[0;31m---------------------------------------------------------------------------\u001b[0m",
      "\u001b[0;31mModuleNotFoundError\u001b[0m                       Traceback (most recent call last)",
      "Cell \u001b[0;32mIn[1], line 1\u001b[0m\n\u001b[0;32m----> 1\u001b[0m \u001b[38;5;28;01mimport\u001b[39;00m \u001b[38;5;21;01mpandas\u001b[39;00m \u001b[38;5;28;01mas\u001b[39;00m \u001b[38;5;21;01mpd\u001b[39;00m\n\u001b[1;32m      2\u001b[0m \u001b[38;5;28;01mimport\u001b[39;00m \u001b[38;5;21;01mmatplotlib\u001b[39;00m\u001b[38;5;21;01m.\u001b[39;00m\u001b[38;5;21;01mpyplot\u001b[39;00m \u001b[38;5;28;01mas\u001b[39;00m \u001b[38;5;21;01mplt\u001b[39;00m\n\u001b[1;32m      3\u001b[0m \u001b[38;5;28;01mimport\u001b[39;00m \u001b[38;5;21;01mseaborn\u001b[39;00m \u001b[38;5;28;01mas\u001b[39;00m \u001b[38;5;21;01msns\u001b[39;00m\n",
      "\u001b[0;31mModuleNotFoundError\u001b[0m: No module named 'pandas'"
     ]
    }
   ],
   "source": [
    "import pandas as pd\n",
    "import matplotlib.pyplot as plt\n",
    "import seaborn as sns"
   ]
  },
  {
   "cell_type": "code",
   "execution_count": 2,
   "id": "6e9a9361",
   "metadata": {},
   "outputs": [],
   "source": [
    "data = pd.read_csv('Groceries_dataset.csv')"
   ]
  },
  {
   "cell_type": "markdown",
   "id": "a5d1be2f",
   "metadata": {},
   "source": [
    "### Q1: import the data in Groceries_dataset.csv into the notebook as a Pandas DataFrame. Check out the first and last 5 rows of the DataFrame. Then show the basic information of the DataFrame. "
   ]
  },
  {
   "cell_type": "code",
   "execution_count": 3,
   "id": "994ec569",
   "metadata": {},
   "outputs": [
    {
     "data": {
      "text/html": [
       "<div>\n",
       "<style scoped>\n",
       "    .dataframe tbody tr th:only-of-type {\n",
       "        vertical-align: middle;\n",
       "    }\n",
       "\n",
       "    .dataframe tbody tr th {\n",
       "        vertical-align: top;\n",
       "    }\n",
       "\n",
       "    .dataframe thead th {\n",
       "        text-align: right;\n",
       "    }\n",
       "</style>\n",
       "<table border=\"1\" class=\"dataframe\">\n",
       "  <thead>\n",
       "    <tr style=\"text-align: right;\">\n",
       "      <th></th>\n",
       "      <th>Member_number</th>\n",
       "      <th>Date</th>\n",
       "      <th>itemDescription</th>\n",
       "    </tr>\n",
       "  </thead>\n",
       "  <tbody>\n",
       "    <tr>\n",
       "      <th>0</th>\n",
       "      <td>1808</td>\n",
       "      <td>21-07-2015</td>\n",
       "      <td>tropical fruit</td>\n",
       "    </tr>\n",
       "    <tr>\n",
       "      <th>1</th>\n",
       "      <td>2552</td>\n",
       "      <td>05-01-2015</td>\n",
       "      <td>whole milk</td>\n",
       "    </tr>\n",
       "    <tr>\n",
       "      <th>2</th>\n",
       "      <td>2300</td>\n",
       "      <td>19-09-2015</td>\n",
       "      <td>pip fruit</td>\n",
       "    </tr>\n",
       "    <tr>\n",
       "      <th>3</th>\n",
       "      <td>1187</td>\n",
       "      <td>12-12-2015</td>\n",
       "      <td>other vegetables</td>\n",
       "    </tr>\n",
       "    <tr>\n",
       "      <th>4</th>\n",
       "      <td>3037</td>\n",
       "      <td>01-02-2015</td>\n",
       "      <td>whole milk</td>\n",
       "    </tr>\n",
       "    <tr>\n",
       "      <th>...</th>\n",
       "      <td>...</td>\n",
       "      <td>...</td>\n",
       "      <td>...</td>\n",
       "    </tr>\n",
       "    <tr>\n",
       "      <th>38760</th>\n",
       "      <td>4471</td>\n",
       "      <td>08-10-2014</td>\n",
       "      <td>sliced cheese</td>\n",
       "    </tr>\n",
       "    <tr>\n",
       "      <th>38761</th>\n",
       "      <td>2022</td>\n",
       "      <td>23-02-2014</td>\n",
       "      <td>candy</td>\n",
       "    </tr>\n",
       "    <tr>\n",
       "      <th>38762</th>\n",
       "      <td>1097</td>\n",
       "      <td>16-04-2014</td>\n",
       "      <td>cake bar</td>\n",
       "    </tr>\n",
       "    <tr>\n",
       "      <th>38763</th>\n",
       "      <td>1510</td>\n",
       "      <td>03-12-2014</td>\n",
       "      <td>fruit/vegetable juice</td>\n",
       "    </tr>\n",
       "    <tr>\n",
       "      <th>38764</th>\n",
       "      <td>1521</td>\n",
       "      <td>26-12-2014</td>\n",
       "      <td>cat food</td>\n",
       "    </tr>\n",
       "  </tbody>\n",
       "</table>\n",
       "<p>38765 rows × 3 columns</p>\n",
       "</div>"
      ],
      "text/plain": [
       "       Member_number        Date        itemDescription\n",
       "0               1808  21-07-2015         tropical fruit\n",
       "1               2552  05-01-2015             whole milk\n",
       "2               2300  19-09-2015              pip fruit\n",
       "3               1187  12-12-2015       other vegetables\n",
       "4               3037  01-02-2015             whole milk\n",
       "...              ...         ...                    ...\n",
       "38760           4471  08-10-2014          sliced cheese\n",
       "38761           2022  23-02-2014                  candy\n",
       "38762           1097  16-04-2014               cake bar\n",
       "38763           1510  03-12-2014  fruit/vegetable juice\n",
       "38764           1521  26-12-2014               cat food\n",
       "\n",
       "[38765 rows x 3 columns]"
      ]
     },
     "execution_count": 3,
     "metadata": {},
     "output_type": "execute_result"
    }
   ],
   "source": [
    "data"
   ]
  },
  {
   "cell_type": "code",
   "execution_count": 4,
   "id": "4e5f0f70",
   "metadata": {
    "scrolled": true
   },
   "outputs": [
    {
     "name": "stdout",
     "output_type": "stream",
     "text": [
      "<class 'pandas.core.frame.DataFrame'>\n",
      "RangeIndex: 38765 entries, 0 to 38764\n",
      "Data columns (total 3 columns):\n",
      " #   Column           Non-Null Count  Dtype \n",
      "---  ------           --------------  ----- \n",
      " 0   Member_number    38765 non-null  int64 \n",
      " 1   Date             38765 non-null  object\n",
      " 2   itemDescription  38765 non-null  object\n",
      "dtypes: int64(1), object(2)\n",
      "memory usage: 908.7+ KB\n"
     ]
    }
   ],
   "source": [
    "data.info()"
   ]
  },
  {
   "cell_type": "markdown",
   "id": "157745b5",
   "metadata": {},
   "source": [
    "### Q2: Note that the dates are strings. Create a new Pandas DataFrame that contains the same information but replaces the date strings with three integer columns containing the day, month, and year."
   ]
  },
  {
   "cell_type": "code",
   "execution_count": 5,
   "id": "97ef3771",
   "metadata": {},
   "outputs": [],
   "source": [
    "def day(day_str):\n",
    "    return day_str[:2]\n",
    "\n",
    "def month(month_str):\n",
    "    return month_str[3:5]\n",
    "\n",
    "def year(yr_str):\n",
    "    return yr_str[6:10]"
   ]
  },
  {
   "cell_type": "code",
   "execution_count": 6,
   "id": "656127f1",
   "metadata": {},
   "outputs": [],
   "source": [
    "data['Day'] = data['Date'].apply(day)\n",
    "data['Month'] = data['Date'].apply(month)\n",
    "data['Year'] = data['Date'].apply(year)"
   ]
  },
  {
   "cell_type": "code",
   "execution_count": 7,
   "id": "38adc561",
   "metadata": {},
   "outputs": [],
   "source": [
    "data.drop(labels = 'Date', axis = 1, inplace = True)"
   ]
  },
  {
   "cell_type": "code",
   "execution_count": 8,
   "id": "af987d6e",
   "metadata": {},
   "outputs": [
    {
     "data": {
      "text/html": [
       "<div>\n",
       "<style scoped>\n",
       "    .dataframe tbody tr th:only-of-type {\n",
       "        vertical-align: middle;\n",
       "    }\n",
       "\n",
       "    .dataframe tbody tr th {\n",
       "        vertical-align: top;\n",
       "    }\n",
       "\n",
       "    .dataframe thead th {\n",
       "        text-align: right;\n",
       "    }\n",
       "</style>\n",
       "<table border=\"1\" class=\"dataframe\">\n",
       "  <thead>\n",
       "    <tr style=\"text-align: right;\">\n",
       "      <th></th>\n",
       "      <th>Member_number</th>\n",
       "      <th>itemDescription</th>\n",
       "      <th>Day</th>\n",
       "      <th>Month</th>\n",
       "      <th>Year</th>\n",
       "    </tr>\n",
       "  </thead>\n",
       "  <tbody>\n",
       "    <tr>\n",
       "      <th>0</th>\n",
       "      <td>1808</td>\n",
       "      <td>tropical fruit</td>\n",
       "      <td>21</td>\n",
       "      <td>07</td>\n",
       "      <td>2015</td>\n",
       "    </tr>\n",
       "    <tr>\n",
       "      <th>1</th>\n",
       "      <td>2552</td>\n",
       "      <td>whole milk</td>\n",
       "      <td>05</td>\n",
       "      <td>01</td>\n",
       "      <td>2015</td>\n",
       "    </tr>\n",
       "    <tr>\n",
       "      <th>2</th>\n",
       "      <td>2300</td>\n",
       "      <td>pip fruit</td>\n",
       "      <td>19</td>\n",
       "      <td>09</td>\n",
       "      <td>2015</td>\n",
       "    </tr>\n",
       "    <tr>\n",
       "      <th>3</th>\n",
       "      <td>1187</td>\n",
       "      <td>other vegetables</td>\n",
       "      <td>12</td>\n",
       "      <td>12</td>\n",
       "      <td>2015</td>\n",
       "    </tr>\n",
       "    <tr>\n",
       "      <th>4</th>\n",
       "      <td>3037</td>\n",
       "      <td>whole milk</td>\n",
       "      <td>01</td>\n",
       "      <td>02</td>\n",
       "      <td>2015</td>\n",
       "    </tr>\n",
       "  </tbody>\n",
       "</table>\n",
       "</div>"
      ],
      "text/plain": [
       "   Member_number   itemDescription Day Month  Year\n",
       "0           1808    tropical fruit  21    07  2015\n",
       "1           2552        whole milk  05    01  2015\n",
       "2           2300         pip fruit  19    09  2015\n",
       "3           1187  other vegetables  12    12  2015\n",
       "4           3037        whole milk  01    02  2015"
      ]
     },
     "execution_count": 8,
     "metadata": {},
     "output_type": "execute_result"
    }
   ],
   "source": [
    "data.head()"
   ]
  },
  {
   "cell_type": "markdown",
   "id": "19195d9f",
   "metadata": {},
   "source": [
    "### Q3: Determine which item was purchased the most frequently."
   ]
  },
  {
   "cell_type": "code",
   "execution_count": 9,
   "id": "efa96540",
   "metadata": {},
   "outputs": [
    {
     "data": {
      "text/plain": [
       "whole milk    2502\n",
       "Name: itemDescription, dtype: int64"
      ]
     },
     "execution_count": 9,
     "metadata": {},
     "output_type": "execute_result"
    }
   ],
   "source": [
    "data['itemDescription'].value_counts().head(1)"
   ]
  },
  {
   "cell_type": "markdown",
   "id": "865e0805",
   "metadata": {},
   "source": [
    "### Q4: Determine which member purchased the most items. "
   ]
  },
  {
   "cell_type": "code",
   "execution_count": 10,
   "id": "ad857467",
   "metadata": {},
   "outputs": [
    {
     "data": {
      "text/plain": [
       "3180    36\n",
       "Name: Member_number, dtype: int64"
      ]
     },
     "execution_count": 10,
     "metadata": {},
     "output_type": "execute_result"
    }
   ],
   "source": [
    "data['Member_number'].value_counts().head(1)"
   ]
  },
  {
   "cell_type": "markdown",
   "id": "c4f53480",
   "metadata": {},
   "source": [
    "### Q5: Determine the distinct items purchased by member 2300. "
   ]
  },
  {
   "cell_type": "code",
   "execution_count": 11,
   "id": "a8935d30",
   "metadata": {
    "scrolled": true
   },
   "outputs": [
    {
     "data": {
      "text/html": [
       "<div>\n",
       "<style scoped>\n",
       "    .dataframe tbody tr th:only-of-type {\n",
       "        vertical-align: middle;\n",
       "    }\n",
       "\n",
       "    .dataframe tbody tr th {\n",
       "        vertical-align: top;\n",
       "    }\n",
       "\n",
       "    .dataframe thead th {\n",
       "        text-align: right;\n",
       "    }\n",
       "</style>\n",
       "<table border=\"1\" class=\"dataframe\">\n",
       "  <thead>\n",
       "    <tr style=\"text-align: right;\">\n",
       "      <th></th>\n",
       "      <th>Member_number</th>\n",
       "      <th>itemDescription</th>\n",
       "      <th>Day</th>\n",
       "      <th>Month</th>\n",
       "      <th>Year</th>\n",
       "    </tr>\n",
       "  </thead>\n",
       "  <tbody>\n",
       "    <tr>\n",
       "      <th>2</th>\n",
       "      <td>2300</td>\n",
       "      <td>pip fruit</td>\n",
       "      <td>19</td>\n",
       "      <td>09</td>\n",
       "      <td>2015</td>\n",
       "    </tr>\n",
       "    <tr>\n",
       "      <th>5354</th>\n",
       "      <td>2300</td>\n",
       "      <td>sausage</td>\n",
       "      <td>28</td>\n",
       "      <td>04</td>\n",
       "      <td>2015</td>\n",
       "    </tr>\n",
       "    <tr>\n",
       "      <th>5642</th>\n",
       "      <td>2300</td>\n",
       "      <td>frankfurter</td>\n",
       "      <td>05</td>\n",
       "      <td>08</td>\n",
       "      <td>2015</td>\n",
       "    </tr>\n",
       "    <tr>\n",
       "      <th>9820</th>\n",
       "      <td>2300</td>\n",
       "      <td>pork</td>\n",
       "      <td>16</td>\n",
       "      <td>03</td>\n",
       "      <td>2014</td>\n",
       "    </tr>\n",
       "    <tr>\n",
       "      <th>16151</th>\n",
       "      <td>2300</td>\n",
       "      <td>other vegetables</td>\n",
       "      <td>19</td>\n",
       "      <td>09</td>\n",
       "      <td>2015</td>\n",
       "    </tr>\n",
       "    <tr>\n",
       "      <th>21503</th>\n",
       "      <td>2300</td>\n",
       "      <td>white wine</td>\n",
       "      <td>28</td>\n",
       "      <td>04</td>\n",
       "      <td>2015</td>\n",
       "    </tr>\n",
       "    <tr>\n",
       "      <th>21791</th>\n",
       "      <td>2300</td>\n",
       "      <td>long life bakery product</td>\n",
       "      <td>05</td>\n",
       "      <td>08</td>\n",
       "      <td>2015</td>\n",
       "    </tr>\n",
       "    <tr>\n",
       "      <th>25969</th>\n",
       "      <td>2300</td>\n",
       "      <td>fruit/vegetable juice</td>\n",
       "      <td>16</td>\n",
       "      <td>03</td>\n",
       "      <td>2014</td>\n",
       "    </tr>\n",
       "    <tr>\n",
       "      <th>36090</th>\n",
       "      <td>2300</td>\n",
       "      <td>flour</td>\n",
       "      <td>19</td>\n",
       "      <td>09</td>\n",
       "      <td>2015</td>\n",
       "    </tr>\n",
       "    <tr>\n",
       "      <th>36538</th>\n",
       "      <td>2300</td>\n",
       "      <td>hygiene articles</td>\n",
       "      <td>28</td>\n",
       "      <td>04</td>\n",
       "      <td>2015</td>\n",
       "    </tr>\n",
       "  </tbody>\n",
       "</table>\n",
       "</div>"
      ],
      "text/plain": [
       "       Member_number           itemDescription Day Month  Year\n",
       "2               2300                 pip fruit  19    09  2015\n",
       "5354            2300                   sausage  28    04  2015\n",
       "5642            2300               frankfurter  05    08  2015\n",
       "9820            2300                      pork  16    03  2014\n",
       "16151           2300          other vegetables  19    09  2015\n",
       "21503           2300                white wine  28    04  2015\n",
       "21791           2300  long life bakery product  05    08  2015\n",
       "25969           2300     fruit/vegetable juice  16    03  2014\n",
       "36090           2300                     flour  19    09  2015\n",
       "36538           2300          hygiene articles  28    04  2015"
      ]
     },
     "execution_count": 11,
     "metadata": {},
     "output_type": "execute_result"
    }
   ],
   "source": [
    "filter2300 = data['Member_number'] == 2300\n",
    "data[filter2300]"
   ]
  },
  {
   "cell_type": "markdown",
   "id": "428740be",
   "metadata": {},
   "source": [
    "### Q6: Determine the items that members 2051 and 3050 both purchased."
   ]
  },
  {
   "cell_type": "code",
   "execution_count": 12,
   "id": "1da59069",
   "metadata": {},
   "outputs": [],
   "source": [
    "bool_filter1 = data['Member_number'] == 2051\n",
    "bool_filter2 = data['Member_number'] == 3050"
   ]
  },
  {
   "cell_type": "code",
   "execution_count": 13,
   "id": "57ca6926",
   "metadata": {},
   "outputs": [],
   "source": [
    "d2051 = data[bool_filter1]\n",
    "d3050 = data[bool_filter2]\n",
    "dboth = pd.DataFrame()"
   ]
  },
  {
   "cell_type": "code",
   "execution_count": 14,
   "id": "b55aaa36",
   "metadata": {},
   "outputs": [],
   "source": [
    "dboth['itemDescription'] = d3050['itemDescription']\n",
    "dboth['both_purchased'] = d3050['itemDescription'].isin(d2051['itemDescription'])"
   ]
  },
  {
   "cell_type": "code",
   "execution_count": 15,
   "id": "67abb02e",
   "metadata": {},
   "outputs": [
    {
     "data": {
      "text/html": [
       "<div>\n",
       "<style scoped>\n",
       "    .dataframe tbody tr th:only-of-type {\n",
       "        vertical-align: middle;\n",
       "    }\n",
       "\n",
       "    .dataframe tbody tr th {\n",
       "        vertical-align: top;\n",
       "    }\n",
       "\n",
       "    .dataframe thead th {\n",
       "        text-align: right;\n",
       "    }\n",
       "</style>\n",
       "<table border=\"1\" class=\"dataframe\">\n",
       "  <thead>\n",
       "    <tr style=\"text-align: right;\">\n",
       "      <th></th>\n",
       "      <th>itemDescription</th>\n",
       "      <th>both_purchased</th>\n",
       "    </tr>\n",
       "  </thead>\n",
       "  <tbody>\n",
       "    <tr>\n",
       "      <th>2122</th>\n",
       "      <td>pip fruit</td>\n",
       "      <td>True</td>\n",
       "    </tr>\n",
       "    <tr>\n",
       "      <th>2431</th>\n",
       "      <td>frankfurter</td>\n",
       "      <td>True</td>\n",
       "    </tr>\n",
       "    <tr>\n",
       "      <th>4161</th>\n",
       "      <td>whole milk</td>\n",
       "      <td>True</td>\n",
       "    </tr>\n",
       "    <tr>\n",
       "      <th>4588</th>\n",
       "      <td>other vegetables</td>\n",
       "      <td>True</td>\n",
       "    </tr>\n",
       "    <tr>\n",
       "      <th>7499</th>\n",
       "      <td>pork</td>\n",
       "      <td>True</td>\n",
       "    </tr>\n",
       "    <tr>\n",
       "      <th>8419</th>\n",
       "      <td>beef</td>\n",
       "      <td>True</td>\n",
       "    </tr>\n",
       "    <tr>\n",
       "      <th>23648</th>\n",
       "      <td>soda</td>\n",
       "      <td>True</td>\n",
       "    </tr>\n",
       "    <tr>\n",
       "      <th>24289</th>\n",
       "      <td>rolls/buns</td>\n",
       "      <td>True</td>\n",
       "    </tr>\n",
       "    <tr>\n",
       "      <th>27703</th>\n",
       "      <td>root vegetables</td>\n",
       "      <td>True</td>\n",
       "    </tr>\n",
       "  </tbody>\n",
       "</table>\n",
       "</div>"
      ],
      "text/plain": [
       "        itemDescription  both_purchased\n",
       "2122          pip fruit            True\n",
       "2431        frankfurter            True\n",
       "4161         whole milk            True\n",
       "4588   other vegetables            True\n",
       "7499               pork            True\n",
       "8419               beef            True\n",
       "23648              soda            True\n",
       "24289        rolls/buns            True\n",
       "27703   root vegetables            True"
      ]
     },
     "execution_count": 15,
     "metadata": {},
     "output_type": "execute_result"
    }
   ],
   "source": [
    "bool_filter3 = dboth['both_purchased'] == True\n",
    "dboth[bool_filter3].drop_duplicates()"
   ]
  },
  {
   "cell_type": "markdown",
   "id": "de51a1bc",
   "metadata": {},
   "source": [
    "### Q7: Determine the items purchased by member 2051 that member 3050 did not purchase."
   ]
  },
  {
   "cell_type": "code",
   "execution_count": 16,
   "id": "3e46d890",
   "metadata": {},
   "outputs": [],
   "source": [
    "bool_filter1 = data['Member_number'] == 2051\n",
    "bool_filter2 = data['Member_number'] == 3050"
   ]
  },
  {
   "cell_type": "code",
   "execution_count": 17,
   "id": "e095d4fe",
   "metadata": {},
   "outputs": [],
   "source": [
    "d2051 = data[bool_filter1]\n",
    "d3050 = data[bool_filter2]\n",
    "dboth = pd.DataFrame()"
   ]
  },
  {
   "cell_type": "code",
   "execution_count": 18,
   "id": "e84b5ba9",
   "metadata": {},
   "outputs": [],
   "source": [
    "dboth['itemDescription'] = d2051['itemDescription']\n",
    "dboth['3051_purchased'] = d2051['itemDescription'].isin(d3050['itemDescription'])"
   ]
  },
  {
   "cell_type": "code",
   "execution_count": 19,
   "id": "9d40c51d",
   "metadata": {},
   "outputs": [
    {
     "data": {
      "text/html": [
       "<div>\n",
       "<style scoped>\n",
       "    .dataframe tbody tr th:only-of-type {\n",
       "        vertical-align: middle;\n",
       "    }\n",
       "\n",
       "    .dataframe tbody tr th {\n",
       "        vertical-align: top;\n",
       "    }\n",
       "\n",
       "    .dataframe thead th {\n",
       "        text-align: right;\n",
       "    }\n",
       "</style>\n",
       "<table border=\"1\" class=\"dataframe\">\n",
       "  <thead>\n",
       "    <tr style=\"text-align: right;\">\n",
       "      <th></th>\n",
       "      <th>itemDescription</th>\n",
       "      <th>3051_purchased</th>\n",
       "    </tr>\n",
       "  </thead>\n",
       "  <tbody>\n",
       "    <tr>\n",
       "      <th>3441</th>\n",
       "      <td>photo/film</td>\n",
       "      <td>False</td>\n",
       "    </tr>\n",
       "    <tr>\n",
       "      <th>4564</th>\n",
       "      <td>canned beer</td>\n",
       "      <td>False</td>\n",
       "    </tr>\n",
       "    <tr>\n",
       "      <th>7598</th>\n",
       "      <td>beverages</td>\n",
       "      <td>False</td>\n",
       "    </tr>\n",
       "    <tr>\n",
       "      <th>7952</th>\n",
       "      <td>fruit/vegetable juice</td>\n",
       "      <td>False</td>\n",
       "    </tr>\n",
       "    <tr>\n",
       "      <th>8554</th>\n",
       "      <td>prosecco</td>\n",
       "      <td>False</td>\n",
       "    </tr>\n",
       "    <tr>\n",
       "      <th>10083</th>\n",
       "      <td>meat</td>\n",
       "      <td>False</td>\n",
       "    </tr>\n",
       "    <tr>\n",
       "      <th>16054</th>\n",
       "      <td>long life bakery product</td>\n",
       "      <td>False</td>\n",
       "    </tr>\n",
       "    <tr>\n",
       "      <th>19590</th>\n",
       "      <td>domestic eggs</td>\n",
       "      <td>False</td>\n",
       "    </tr>\n",
       "    <tr>\n",
       "      <th>20153</th>\n",
       "      <td>newspapers</td>\n",
       "      <td>False</td>\n",
       "    </tr>\n",
       "    <tr>\n",
       "      <th>20823</th>\n",
       "      <td>brown bread</td>\n",
       "      <td>False</td>\n",
       "    </tr>\n",
       "    <tr>\n",
       "      <th>23747</th>\n",
       "      <td>ice cream</td>\n",
       "      <td>False</td>\n",
       "    </tr>\n",
       "    <tr>\n",
       "      <th>24265</th>\n",
       "      <td>coffee</td>\n",
       "      <td>False</td>\n",
       "    </tr>\n",
       "    <tr>\n",
       "      <th>32203</th>\n",
       "      <td>whipped/sour cream</td>\n",
       "      <td>False</td>\n",
       "    </tr>\n",
       "    <tr>\n",
       "      <th>33052</th>\n",
       "      <td>flour</td>\n",
       "      <td>False</td>\n",
       "    </tr>\n",
       "    <tr>\n",
       "      <th>34748</th>\n",
       "      <td>cocoa drinks</td>\n",
       "      <td>False</td>\n",
       "    </tr>\n",
       "    <tr>\n",
       "      <th>36199</th>\n",
       "      <td>hygiene articles</td>\n",
       "      <td>False</td>\n",
       "    </tr>\n",
       "    <tr>\n",
       "      <th>37603</th>\n",
       "      <td>cream cheese</td>\n",
       "      <td>False</td>\n",
       "    </tr>\n",
       "  </tbody>\n",
       "</table>\n",
       "</div>"
      ],
      "text/plain": [
       "                itemDescription  3051_purchased\n",
       "3441                 photo/film           False\n",
       "4564                canned beer           False\n",
       "7598                  beverages           False\n",
       "7952      fruit/vegetable juice           False\n",
       "8554                   prosecco           False\n",
       "10083                      meat           False\n",
       "16054  long life bakery product           False\n",
       "19590             domestic eggs           False\n",
       "20153                newspapers           False\n",
       "20823               brown bread           False\n",
       "23747                 ice cream           False\n",
       "24265                    coffee           False\n",
       "32203        whipped/sour cream           False\n",
       "33052                     flour           False\n",
       "34748              cocoa drinks           False\n",
       "36199          hygiene articles           False\n",
       "37603             cream cheese            False"
      ]
     },
     "execution_count": 19,
     "metadata": {},
     "output_type": "execute_result"
    }
   ],
   "source": [
    "bool_filter3 = dboth['3051_purchased'] == False\n",
    "dboth[bool_filter3].drop_duplicates()"
   ]
  },
  {
   "cell_type": "markdown",
   "id": "8367d429",
   "metadata": {},
   "source": [
    "### Q8: Create a labeled pie chart for the purchases made by member 1097."
   ]
  },
  {
   "cell_type": "code",
   "execution_count": 20,
   "id": "079e1aee",
   "metadata": {},
   "outputs": [],
   "source": [
    "filter1097 = data['Member_number'] == 1097"
   ]
  },
  {
   "cell_type": "code",
   "execution_count": 21,
   "id": "d82aff89",
   "metadata": {},
   "outputs": [
    {
     "data": {
      "text/plain": [
       "<AxesSubplot:title={'center':'Member 1097'}>"
      ]
     },
     "execution_count": 21,
     "metadata": {},
     "output_type": "execute_result"
    },
    {
     "data": {
      "image/png": "[encoded data removed]",
      "text/plain": [
       "<Figure size 432x288 with 1 Axes>"
      ]
     },
     "metadata": {},
     "output_type": "display_data"
    }
   ],
   "source": [
    "newdata = data[filter1097]['itemDescription'].drop_duplicates()\n",
    "newdata.value_counts().plot(kind = 'pie', ylabel = '', title = 'Member 1097')"
   ]
  },
  {
   "cell_type": "markdown",
   "id": "d7622e5e",
   "metadata": {},
   "source": [
    "### Q9: Determine how many turkeys were purchased."
   ]
  },
  {
   "cell_type": "code",
   "execution_count": 22,
   "id": "34ab4134",
   "metadata": {},
   "outputs": [],
   "source": [
    "turkeys = data['itemDescription'] == 'turkey'"
   ]
  },
  {
   "cell_type": "code",
   "execution_count": 23,
   "id": "5281d5a3",
   "metadata": {},
   "outputs": [
    {
     "data": {
      "text/plain": [
       "80"
      ]
     },
     "execution_count": 23,
     "metadata": {},
     "output_type": "execute_result"
    }
   ],
   "source": [
    "data[turkeys].value_counts().sum()"
   ]
  },
  {
   "cell_type": "markdown",
   "id": "24ab6a40",
   "metadata": {},
   "source": [
    "### Q10: Create a labeled, horizontal bar chart showing the number of turkeys purchased in each month of the year."
   ]
  },
  {
   "cell_type": "code",
   "execution_count": 24,
   "id": "84c93e39",
   "metadata": {},
   "outputs": [],
   "source": [
    "tur_per_mon = data[turkeys].value_counts().groupby(by = 'Month').sum()"
   ]
  },
  {
   "cell_type": "code",
   "execution_count": 25,
   "id": "f313279f",
   "metadata": {},
   "outputs": [
    {
     "data": {
      "text/plain": [
       "<AxesSubplot:title={'center':'Turkeys Purchased Per Month'}, ylabel='Month'>"
      ]
     },
     "execution_count": 25,
     "metadata": {},
     "output_type": "execute_result"
    },
    {
     "data": {
      "image/png": "[encoded data removed]",
      "text/plain": [
       "<Figure size 432x288 with 1 Axes>"
      ]
     },
     "metadata": {
      "needs_background": "light"
     },
     "output_type": "display_data"
    }
   ],
   "source": [
    "tur_per_mon.plot(kind = 'barh', title = 'Turkeys Purchased Per Month', xlabel = 'Month', ylabel = 'Turkeys')\n"
   ]
  }
 ],
 "metadata": {
  "kernelspec": {
   "display_name": "Python 3",
   "language": "python",
   "name": "python3"
  },
  "language_info": {
   "codemirror_mode": {
    "name": "ipython",
    "version": 3
   },
   "file_extension": ".py",
   "mimetype": "text/x-python",
   "name": "python",
   "nbconvert_exporter": "python",
   "pygments_lexer": "ipython3",
   "version": "3.11.5"
  }
 },
 "nbformat": 4,
 "nbformat_minor": 5
}
