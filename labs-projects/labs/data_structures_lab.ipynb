{
 "cells": [
  {
   "cell_type": "markdown",
   "metadata": {},
   "source": [
    "<h1><center>Data Structures Lab</center></h1>"
   ]
  },
  {
   "cell_type": "markdown",
   "metadata": {},
   "source": [
    "## Description:\n",
    "\n",
    "This is an open book assignment and you are welcomed to ask for assistance from the instructor and TA. You may also discuss the assignment with your classmates, but the work that you turn in must be yours alone. No student should ever copy another student's code. Remember to comment your code as necessary and be sure that your submitted code runs."
   ]
  },
  {
   "cell_type": "markdown",
   "metadata": {},
   "source": [
    "### Question 1:\n",
    "\n",
    "Create a new code cell below for a header comment of the lab. Ensure to include:\n",
    "+ the author's name;\n",
    "+ the author's preferred name;\n",
    "+ the date of creation; and \n",
    "+ the purpose of the lab. "
   ]
  },
  {
   "cell_type": "code",
   "execution_count": 1,
   "metadata": {},
   "outputs": [],
   "source": [
    "# Author: Tanner Wetzel\n",
    "# Preferred name: Tanner\n",
    "# Date created: 10/20/2021\n",
    "# Description: open book assessment on data structures"
   ]
  },
  {
   "cell_type": "markdown",
   "metadata": {},
   "source": [
    "___\n",
    "\n",
    "### Question 2: \n",
    "\n",
    "Write a function to count the occurrences of each vowel letter from an input string. The function returns a dictionary of vowel letters as the keys and their corresponding counts as the values. \n",
    "\n",
    "Note that this function should count the vowels regardless of the cases, i.e., having 'E' and 'e' will increase the count of 'e' to 2. "
   ]
  },
  {
   "cell_type": "code",
   "execution_count": 11,
   "metadata": {},
   "outputs": [],
   "source": [
    "def count_vowels(in_str):\n",
    "    '''\n",
    "    This function counts the occurrences of each \n",
    "    vowel letter from an input string.\n",
    "    \n",
    "    Args:\n",
    "        in_str: the input string.\n",
    "        \n",
    "    Return:\n",
    "        A dictionary of vowel_letter:count pairs. \n",
    "    '''\n",
    "    # TODO: COMPLETE THIS FUNCTION\n",
    "    vowels = {'a' : 0, 'e' : 0, 'i' : 0, 'o' : 0, 'u' : 0}\n",
    "    for letters in in_str.lower():\n",
    "        if letters in vowels:\n",
    "            vowels[letters] += 1\n",
    "    return vowels"
   ]
  },
  {
   "cell_type": "markdown",
   "metadata": {},
   "source": [
    "#### Test case 1:\n",
    "\n",
    "Run the function call below with the given string to verify if you have the function correctly implemented. If correct, your result should match with the test case."
   ]
  },
  {
   "cell_type": "code",
   "execution_count": 12,
   "metadata": {},
   "outputs": [
    {
     "name": "stdout",
     "output_type": "stream",
     "text": [
      "{'a': 2, 'e': 7, 'i': 0, 'o': 1, 'u': 0}\n"
     ]
    }
   ],
   "source": [
    "test_string = 'She sells seashells by the seashore.'\n",
    "vowel_dict = count_vowels(test_string)\n",
    "\n",
    "print(vowel_dict)"
   ]
  },
  {
   "cell_type": "markdown",
   "metadata": {},
   "source": [
    "#### Test case 2:\n",
    "\n",
    "Run the function call below with the given string to verify if you have the function correctly implemented. If correct, your result should match with the test case."
   ]
  },
  {
   "cell_type": "code",
   "execution_count": 13,
   "metadata": {},
   "outputs": [
    {
     "name": "stdout",
     "output_type": "stream",
     "text": [
      "{'a': 3, 'e': 8, 'i': 2, 'o': 2, 'u': 1}\n"
     ]
    }
   ],
   "source": [
    "test_string = 'Aisle one has the house cleaner I need.'\n",
    "vowel_dict = count_vowels(test_string)\n",
    "\n",
    "print(vowel_dict)"
   ]
  },
  {
   "cell_type": "markdown",
   "metadata": {},
   "source": [
    "___\n",
    "### Question 3: \n",
    "\n",
    "Write a Python function called `print_flipped_matrix(in_mat)` that prints a new matrix that is flipped horizontally from the input matrix. Ensure to have new matrix printed in the `matrix` format, such that numbers on each row are separated by a space, and each row is on its own line.\n",
    "\n",
    "Checkout the image below for an illustration on horizontal flipping of a letter 'F'.\n",
    "\n",
    "<img src=\"https://www.mathsisfun.com/geometry/images/flip-horizontal-vertical.svg\" alt=\"flipping\" width=\"200\"/>\n",
    "\n",
    "For more examples, see the sample test cases."
   ]
  },
  {
   "cell_type": "code",
   "execution_count": 1,
   "metadata": {},
   "outputs": [],
   "source": [
    "def print_flipped_matrix(in_mat):\n",
    "    \"\"\"\n",
    "    This function takes a list of lists (2D list) and \n",
    "    prints a new nested list that is flipped horizontally \n",
    "    from the input list.\n",
    "    \n",
    "    Args: \n",
    "        in_mat: a nested list (2D)\n",
    "        \n",
    "    Returns: None\n",
    "    \"\"\"\n",
    "    # TODO: COMPLETE THIS FUNCTION\n",
    "    \n",
    "    for i in in_mat:\n",
    "        row = i[::-1]\n",
    "        for j in row:\n",
    "            print(j, end = ' ')\n",
    "        print()\n",
    "    "
   ]
  },
  {
   "cell_type": "markdown",
   "metadata": {},
   "source": [
    "#### Test case 1\n",
    "\n",
    "Run the function call below with the given nested list to verify if you have the function correctly implemented. If correct, your result should match with the test case. "
   ]
  },
  {
   "cell_type": "code",
   "execution_count": 2,
   "metadata": {},
   "outputs": [
    {
     "name": "stdout",
     "output_type": "stream",
     "text": [
      "2 1 \n",
      "4 2 \n",
      "6 3 \n",
      "8 4 \n",
      "10 5 \n"
     ]
    }
   ],
   "source": [
    "print_flipped_matrix([ [1, 2], [2, 4], [3, 6], [4, 8], [5, 10] ])"
   ]
  },
  {
   "cell_type": "markdown",
   "metadata": {},
   "source": [
    "#### Test case 2\n",
    "\n",
    "Run the function call below with the given nested list to verify if you have the function correctly implemented. If correct, your result should match with the test case."
   ]
  },
  {
   "cell_type": "code",
   "execution_count": 3,
   "metadata": {},
   "outputs": [
    {
     "name": "stdout",
     "output_type": "stream",
     "text": [
      "16 7 5 -4 \n",
      "9 -1 8 -3 \n",
      "25 10 4 -2 \n"
     ]
    }
   ],
   "source": [
    "input_matrix = [[-4, 5, 7, 16], \n",
    "                [-3, 8, -1, 9], \n",
    "                [-2, 4, 10, 25]]\n",
    "print_flipped_matrix(input_matrix)"
   ]
  },
  {
   "cell_type": "markdown",
   "metadata": {},
   "source": [
    "___\n",
    "### Question 4: \n",
    "Write a Python function called `swapxy()` that takes a list of (x, y) tuple pairs and returns a list of (y, x) tuple pairs. Check out the sample test cases below."
   ]
  },
  {
   "cell_type": "code",
   "execution_count": 100,
   "metadata": {},
   "outputs": [],
   "source": [
    "def swapxy(lst):\n",
    "    \"\"\"\n",
    "    This function takes a list of (x, y) tuple pairs,\n",
    "    and returns a list of (y, x) tuple pairs\n",
    "    \n",
    "    Args: \n",
    "        lst: a list of (x, y) tuple pairs\n",
    "        \n",
    "    Returns: a list of (y, x) tuple pairs\n",
    "    \n",
    "    \"\"\"\n",
    "    # TODO: COMPLETE THIS FUNCTION\n",
    "    \n",
    "    new_lst = []\n",
    "    for tup in lst:\n",
    "        x = tup[1]\n",
    "        y = tup[0]\n",
    "        new_lst.append((x,y))\n",
    "    return new_lst\n",
    "    \n",
    "    "
   ]
  },
  {
   "cell_type": "markdown",
   "metadata": {},
   "source": [
    "#### Test case 1\n",
    "\n",
    "Run the function call below with the given list of tuples to verify if you have the function correctly implemented. If correct, your result should match with the test case."
   ]
  },
  {
   "cell_type": "code",
   "execution_count": 101,
   "metadata": {},
   "outputs": [
    {
     "name": "stdout",
     "output_type": "stream",
     "text": [
      "[(2, 1), (4, 2), (6, 3), (8, 4), (10, 5)]\n"
     ]
    }
   ],
   "source": [
    "swapped_list = swapxy([ (1, 2), (2, 4), (3, 6), (4, 8), (5, 10) ])\n",
    "print(swapped_list)"
   ]
  },
  {
   "cell_type": "markdown",
   "metadata": {},
   "source": [
    "#### Test case 2\n",
    "\n",
    "Run the function call below with the given list of tuples to verify if you have the function correctly implemented. If correct, your result should match with the test case."
   ]
  },
  {
   "cell_type": "code",
   "execution_count": 102,
   "metadata": {},
   "outputs": [
    {
     "data": {
      "text/plain": [
       "[(16, -4), (9, -3), (4, -2), (1, -1), (0, 0), (1, 1), (4, 2), (9, 3), (16, 4)]"
      ]
     },
     "execution_count": 102,
     "metadata": {},
     "output_type": "execute_result"
    }
   ],
   "source": [
    "swapxy([ [-4, 16], [-3, 9], [-2, 4], [-1, 1], [0, 0], [1, 1], [2, 4], [3, 9], [4, 16] ])"
   ]
  }
 ],
 "metadata": {
  "kernelspec": {
   "display_name": "Python 3",
   "language": "python",
   "name": "python3"
  },
  "language_info": {
   "codemirror_mode": {
    "name": "ipython",
    "version": 3
   },
   "file_extension": ".py",
   "mimetype": "text/x-python",
   "name": "python",
   "nbconvert_exporter": "python",
   "pygments_lexer": "ipython3",
   "version": "3.11.5"
  },
  "toc": {
   "base_numbering": 1,
   "nav_menu": {},
   "number_sections": true,
   "sideBar": true,
   "skip_h1_title": false,
   "title_cell": "Table of Contents",
   "title_sidebar": "Contents",
   "toc_cell": false,
   "toc_position": {},
   "toc_section_display": true,
   "toc_window_display": false
  },
  "varInspector": {
   "cols": {
    "lenName": 16,
    "lenType": 16,
    "lenVar": 40
   },
   "kernels_config": {
    "python": {
     "delete_cmd_postfix": "",
     "delete_cmd_prefix": "del ",
     "library": "var_list.py",
     "varRefreshCmd": "print(var_dic_list())"
    },
    "r": {
     "delete_cmd_postfix": ") ",
     "delete_cmd_prefix": "rm(",
     "library": "var_list.r",
     "varRefreshCmd": "cat(var_dic_list()) "
    }
   },
   "types_to_exclude": [
    "module",
    "function",
    "builtin_function_or_method",
    "instance",
    "_Feature"
   ],
   "window_display": false
  }
 },
 "nbformat": 4,
 "nbformat_minor": 2
}
